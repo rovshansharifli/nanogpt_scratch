{
 "cells": [
  {
   "cell_type": "code",
   "execution_count": 1,
   "metadata": {},
   "outputs": [],
   "source": [
    "# Download the tiny Shakespeare dataset\n",
    "# !wget https://raw.githubusercontent.com/karpathy/char-rnn/master/data/tinyshakespeare/input.txt"
   ]
  },
  {
   "cell_type": "code",
   "execution_count": 2,
   "metadata": {},
   "outputs": [],
   "source": [
    "# Reading the tiny Shakespeare\n",
    "with open(\"input.txt\", 'r', encoding='utf-8') as f:\n",
    "    text = f.read()"
   ]
  },
  {
   "cell_type": "code",
   "execution_count": 4,
   "metadata": {},
   "outputs": [
    {
     "data": {
      "text/plain": [
       "1115394"
      ]
     },
     "execution_count": 4,
     "metadata": {},
     "output_type": "execute_result"
    }
   ],
   "source": [
    "# Number of characters\n",
    "len(text)"
   ]
  },
  {
   "cell_type": "code",
   "execution_count": 7,
   "metadata": {},
   "outputs": [
    {
     "name": "stdout",
     "output_type": "stream",
     "text": [
      "First Citizen:\n",
      "Before we proceed any further, hear me speak.\n",
      "\n",
      "All:\n",
      "Speak, speak.\n",
      "\n",
      "First Citizen:\n",
      "You are all resolved rather to die than to famish?\n",
      "\n",
      "All:\n",
      "Resolved. resolved.\n",
      "\n",
      "First Citizen:\n",
      "First, you know Caius Marcius is chief enemy to the people.\n",
      "\n",
      "All:\n",
      "We know't, we know't.\n",
      "\n",
      "First Citizen:\n",
      "Let us\n"
     ]
    }
   ],
   "source": [
    "print(text[:300])"
   ]
  },
  {
   "cell_type": "code",
   "execution_count": 8,
   "metadata": {},
   "outputs": [
    {
     "name": "stdout",
     "output_type": "stream",
     "text": [
      "\n",
      " !$&',-.3:;?ABCDEFGHIJKLMNOPQRSTUVWXYZabcdefghijklmnopqrstuvwxyz\n",
      "65\n"
     ]
    }
   ],
   "source": [
    "# Getting the set of unique characters\n",
    "chars = sorted(list(set(text)))\n",
    "vocab_size = len(chars)\n",
    "print(''.join(chars))\n",
    "print(vocab_size)"
   ]
  },
  {
   "cell_type": "markdown",
   "metadata": {},
   "source": [
    "So the model will be character level LLM"
   ]
  },
  {
   "cell_type": "code",
   "execution_count": 9,
   "metadata": {},
   "outputs": [
    {
     "name": "stdout",
     "output_type": "stream",
     "text": [
      "0  -  \n",
      "\n",
      "1  -   \n",
      "2  -  !\n",
      "3  -  $\n",
      "4  -  &\n",
      "5  -  '\n",
      "6  -  ,\n",
      "7  -  -\n",
      "8  -  .\n",
      "9  -  3\n",
      "10  -  :\n",
      "11  -  ;\n",
      "12  -  ?\n",
      "13  -  A\n",
      "14  -  B\n",
      "15  -  C\n",
      "16  -  D\n",
      "17  -  E\n",
      "18  -  F\n",
      "19  -  G\n",
      "20  -  H\n",
      "21  -  I\n",
      "22  -  J\n",
      "23  -  K\n",
      "24  -  L\n",
      "25  -  M\n",
      "26  -  N\n",
      "27  -  O\n",
      "28  -  P\n",
      "29  -  Q\n",
      "30  -  R\n",
      "31  -  S\n",
      "32  -  T\n",
      "33  -  U\n",
      "34  -  V\n",
      "35  -  W\n",
      "36  -  X\n",
      "37  -  Y\n",
      "38  -  Z\n",
      "39  -  a\n",
      "40  -  b\n",
      "41  -  c\n",
      "42  -  d\n",
      "43  -  e\n",
      "44  -  f\n",
      "45  -  g\n",
      "46  -  h\n",
      "47  -  i\n",
      "48  -  j\n",
      "49  -  k\n",
      "50  -  l\n",
      "51  -  m\n",
      "52  -  n\n",
      "53  -  o\n",
      "54  -  p\n",
      "55  -  q\n",
      "56  -  r\n",
      "57  -  s\n",
      "58  -  t\n",
      "59  -  u\n",
      "60  -  v\n",
      "61  -  w\n",
      "62  -  x\n",
      "63  -  y\n",
      "64  -  z\n"
     ]
    }
   ],
   "source": [
    "for i, ch in enumerate(chars):\n",
    "    print(i, ' - ', ch)"
   ]
  },
  {
   "cell_type": "code",
   "execution_count": 14,
   "metadata": {},
   "outputs": [],
   "source": [
    "# Creating a mapping from charactters to integers\n",
    "stoi = {ch:i for i, ch in enumerate(chars)}\n",
    "itos = {i:ch for i, ch in enumerate(chars)}"
   ]
  },
  {
   "cell_type": "code",
   "execution_count": 17,
   "metadata": {},
   "outputs": [
    {
     "name": "stdout",
     "output_type": "stream",
     "text": [
      "20\n",
      "43\n",
      "50\n",
      "50\n",
      "53\n",
      "1\n",
      "35\n",
      "53\n",
      "56\n",
      "50\n",
      "42\n"
     ]
    }
   ],
   "source": [
    "for c in 'Hello World':\n",
    "    print(stoi[c])"
   ]
  },
  {
   "cell_type": "code",
   "execution_count": 16,
   "metadata": {},
   "outputs": [],
   "source": [
    "# Createing the encoder and decoder\n",
    "encode = lambda s: [stoi[c] for c in s]\n",
    "decoder = lambda l: ''.join(([itos[i] for i in l]))"
   ]
  },
  {
   "cell_type": "code",
   "execution_count": 18,
   "metadata": {},
   "outputs": [
    {
     "name": "stdout",
     "output_type": "stream",
     "text": [
      "[20, 43, 50, 50, 53, 1, 35, 53, 56, 50, 42]\n"
     ]
    }
   ],
   "source": [
    "print(encode('Hello World'))"
   ]
  },
  {
   "cell_type": "code",
   "execution_count": null,
   "metadata": {},
   "outputs": [],
   "source": []
  }
 ],
 "metadata": {
  "kernelspec": {
   "display_name": "deep_env",
   "language": "python",
   "name": "python3"
  },
  "language_info": {
   "codemirror_mode": {
    "name": "ipython",
    "version": 3
   },
   "file_extension": ".py",
   "mimetype": "text/x-python",
   "name": "python",
   "nbconvert_exporter": "python",
   "pygments_lexer": "ipython3",
   "version": "3.12.4"
  }
 },
 "nbformat": 4,
 "nbformat_minor": 2
}
